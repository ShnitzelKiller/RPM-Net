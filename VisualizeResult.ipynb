{
 "cells": [
  {
   "cell_type": "code",
   "execution_count": 1,
   "id": "c1a27ee1",
   "metadata": {},
   "outputs": [],
   "source": [
    "import numpy as np\n",
    "import os\n",
    "import meshplot as mp\n",
    "import ipywidgets as wg"
   ]
  },
  {
   "cell_type": "code",
   "execution_count": 7,
   "id": "34e3dcd8",
   "metadata": {},
   "outputs": [],
   "source": [
    "datadir = 'output/model_rpm_2021-08-02-15-04-37_all/eval'"
   ]
  },
  {
   "cell_type": "code",
   "execution_count": 8,
   "id": "574a9b77",
   "metadata": {},
   "outputs": [
    {
     "data": {
      "text/plain": [
       "['log_evaluate.txt', 'pointcloud', 'seg']"
      ]
     },
     "execution_count": 8,
     "metadata": {},
     "output_type": "execute_result"
    }
   ],
   "source": [
    "os.listdir(datadir)"
   ]
  },
  {
   "cell_type": "code",
   "execution_count": 9,
   "id": "50a8fcb6",
   "metadata": {},
   "outputs": [],
   "source": [
    "def gradient(val, col0, col1):\n",
    "    return np.outer(val, col0) + np.outer(1-val, col1)"
   ]
  },
  {
   "cell_type": "code",
   "execution_count": 10,
   "id": "3f687fa9",
   "metadata": {},
   "outputs": [],
   "source": [
    "def display_example(datadir, name):\n",
    "    pts = [np.loadtxt(os.path.join(datadir, 'pointcloud', name + '_'+str(frame+1)+'.pts')) for frame in range(5)]\n",
    "    minPt = pts[0].min(0)\n",
    "    maxPt = pts[0].max(0)\n",
    "    print(minPt)\n",
    "    print(maxPt)\n",
    "    col = None\n",
    "    with open(os.path.join(datadir, 'seg', name+'.seg')) as f:\n",
    "        labels = np.array([float(l.strip()) for l in f.readlines()])\n",
    "        maxlabel = max(labels)\n",
    "        if maxlabel > 0:\n",
    "            labels /= maxlabel\n",
    "        col = gradient(labels, np.array([1, 0, 0]), np.array([0, 0, 1]))\n",
    "        \n",
    "    plt = mp.plot(pts[0], c=col, shading={\"point_size\": 0.03})\n",
    "    @wg.interact(index = wg.IntSlider(0, 0, 4))\n",
    "    def f(index):\n",
    "        print('updating to frame '+str(index))\n",
    "        plt.update_object(vertices=pts[index])"
   ]
  },
  {
   "cell_type": "code",
   "execution_count": 12,
   "id": "27208493",
   "metadata": {},
   "outputs": [
    {
     "name": "stdout",
     "output_type": "stream",
     "text": [
      "[0.04117538 0.14266641 0.14910369]\n",
      "[0.94403875 0.98322654 0.85228407]\n"
     ]
    },
    {
     "data": {
      "application/vnd.jupyter.widget-view+json": {
       "model_id": "cbcd3a194e934ba0acaf6d6d781509ef",
       "version_major": 2,
       "version_minor": 0
      },
      "text/plain": [
       "Renderer(camera=PerspectiveCamera(children=(DirectionalLight(color='white', intensity=0.6, position=(0.4926070…"
      ]
     },
     "metadata": {},
     "output_type": "display_data"
    },
    {
     "data": {
      "application/vnd.jupyter.widget-view+json": {
       "model_id": "7ff2f900f5ab46cf97eaa3534d39d383",
       "version_major": 2,
       "version_minor": 0
      },
      "text/plain": [
       "interactive(children=(IntSlider(value=0, description='index', max=4), Output()), _dom_classes=('widget-interac…"
      ]
     },
     "metadata": {},
     "output_type": "display_data"
    }
   ],
   "source": [
    "#display_example(datadir, 'Bottle_04_s2_f03')\n",
    "#display_example(datadir, 'SwivelChair_01_s2_f01')\n",
    "display_example(datadir, 'CeilingFan_02_s1_f06')"
   ]
  },
  {
   "cell_type": "code",
   "execution_count": null,
   "id": "4aaf78f6",
   "metadata": {},
   "outputs": [],
   "source": []
  }
 ],
 "metadata": {
  "kernelspec": {
   "display_name": "Python 3 (ipykernel)",
   "language": "python",
   "name": "python3"
  },
  "language_info": {
   "codemirror_mode": {
    "name": "ipython",
    "version": 3
   },
   "file_extension": ".py",
   "mimetype": "text/x-python",
   "name": "python",
   "nbconvert_exporter": "python",
   "pygments_lexer": "ipython3",
   "version": "3.9.6"
  }
 },
 "nbformat": 4,
 "nbformat_minor": 5
}
